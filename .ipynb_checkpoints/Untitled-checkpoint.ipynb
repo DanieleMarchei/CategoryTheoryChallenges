{
 "cells": [
  {
   "cell_type": "markdown",
   "metadata": {},
   "source": [
    "A function that is not defined for all possible values of its argument is called a partial function. It's not really a function in the mathematical sense, so it doesn's fit the standard categorical mold. It can, however, be represented by a function that return an embellished type \"optional\":"
   ]
  },
  {
   "cell_type": "code",
   "execution_count": 28,
   "metadata": {},
   "outputs": [],
   "source": [
    "class Optional:\n",
    "    def __init__(self, v = None):\n",
    "        self._isValid = v != None\n",
    "        if self._isValid:\n",
    "            self._value = v\n",
    "    \n",
    "    def isValid(self):\n",
    "        return self._isValid\n",
    "    \n",
    "    def value(self):\n",
    "        return self._value\n",
    "    \n",
    "    def __repr__(self):\n",
    "        if self.isValid():\n",
    "            return str(self.value())\n",
    "        else:\n",
    "            return \"Not Valid\""
   ]
  },
  {
   "cell_type": "markdown",
   "metadata": {},
   "source": [
    "For examplem here the implementation of the embelished function \"safe_root\":"
   ]
  },
  {
   "cell_type": "code",
   "execution_count": 29,
   "metadata": {},
   "outputs": [],
   "source": [
    "from math import sqrt\n",
    "\n",
    "def safe_root(x : float) -> Optional:\n",
    "    if x >= 0:\n",
    "        return Optional(sqrt(x))\n",
    "    else:\n",
    "        return Optional()"
   ]
  },
  {
   "cell_type": "code",
   "execution_count": 32,
   "metadata": {},
   "outputs": [
    {
     "data": {
      "text/plain": [
       "(1.7320508075688772, Not Valid)"
      ]
     },
     "execution_count": 32,
     "metadata": {},
     "output_type": "execute_result"
    }
   ],
   "source": [
    "safe_root(3), safe_root(-3)"
   ]
  },
  {
   "cell_type": "markdown",
   "metadata": {},
   "source": [
    "Here is the challenge:"
   ]
  },
  {
   "cell_type": "markdown",
   "metadata": {},
   "source": [
    "### 1 - Construct the Kleisli category for partial functions (define composition and identity)"
   ]
  },
  {
   "cell_type": "code",
   "execution_count": 44,
   "metadata": {},
   "outputs": [],
   "source": [
    "def compose(f,g):\n",
    "    def composed(x):\n",
    "        opt_g = g(x)\n",
    "        if opt_g.isValid():\n",
    "            v = opt_g.value()\n",
    "            opt_f = f(v)\n",
    "            return opt_f\n",
    "        return opt_g\n",
    "    return composed\n",
    "\n",
    "def identity(x):\n",
    "    return Optional(x)"
   ]
  },
  {
   "cell_type": "markdown",
   "metadata": {},
   "source": [
    "### 2 - Implement the embellished function \"safe_reciprocal\""
   ]
  },
  {
   "cell_type": "code",
   "execution_count": 41,
   "metadata": {},
   "outputs": [],
   "source": [
    "def safe_reciprocal(x : float) -> Optional:\n",
    "    if x != 0:\n",
    "        return Optional(1/x)\n",
    "    else:\n",
    "        return Optional()"
   ]
  },
  {
   "cell_type": "markdown",
   "metadata": {},
   "source": [
    "### 3 - Compose the functions \"safe_root\" and \"safe_reciprocal\" to implement \"safe_root_reciprocal\" that calculates sqrt(1/x) whenever possible."
   ]
  },
  {
   "cell_type": "code",
   "execution_count": 45,
   "metadata": {},
   "outputs": [],
   "source": [
    "def safe_root_reciprocal(x : float) -> Optional:\n",
    "    return compose(safe_root, safe_reciprocal)(x)        "
   ]
  },
  {
   "cell_type": "code",
   "execution_count": 46,
   "metadata": {},
   "outputs": [
    {
     "data": {
      "text/plain": [
       "10.0"
      ]
     },
     "execution_count": 46,
     "metadata": {},
     "output_type": "execute_result"
    }
   ],
   "source": [
    "safe_root_reciprocal(0.01) # should output 10"
   ]
  },
  {
   "cell_type": "code",
   "execution_count": 48,
   "metadata": {},
   "outputs": [
    {
     "data": {
      "text/plain": [
       "(Not Valid, Not Valid)"
      ]
     },
     "execution_count": 48,
     "metadata": {},
     "output_type": "execute_result"
    }
   ],
   "source": [
    "safe_root_reciprocal(0), safe_root_reciprocal(-10)"
   ]
  }
 ],
 "metadata": {
  "kernelspec": {
   "display_name": "Python 3",
   "language": "python",
   "name": "python3"
  },
  "language_info": {
   "codemirror_mode": {
    "name": "ipython",
    "version": 3
   },
   "file_extension": ".py",
   "mimetype": "text/x-python",
   "name": "python",
   "nbconvert_exporter": "python",
   "pygments_lexer": "ipython3",
   "version": "3.7.4"
  }
 },
 "nbformat": 4,
 "nbformat_minor": 2
}
