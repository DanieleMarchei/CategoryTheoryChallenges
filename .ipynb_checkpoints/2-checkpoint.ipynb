{
 "cells": [
  {
   "cell_type": "markdown",
   "metadata": {},
   "source": [
    "###  1 - Define a higher-order function memoize. This function takes a pure function f as argument and return a function that behaevs almost exactly like f, except that it only calls the original function once for every argument, stores the result internally, and subsequently returns the stored result every time it's called with the same argument."
   ]
  },
  {
   "cell_type": "code",
   "execution_count": 47,
   "metadata": {},
   "outputs": [],
   "source": [
    "from inspect import signature\n",
    "\n",
    "memo = {}\n",
    "\n",
    "def memoize(f):\n",
    "    sig = signature(f)\n",
    "    n_params = len(sig.parameters)\n",
    "    if f in memo:\n",
    "        return memo[f][0]\n",
    "    \n",
    "    def memoized(x = None):\n",
    "        if x in memo[f][1]:\n",
    "            return memo[f][1][x]\n",
    "        if n_params == 0:\n",
    "            memo[f][1][x] = f()\n",
    "        else:\n",
    "            memo[f][1][x] = f(x)\n",
    "        return memo[f][1][x]\n",
    "    \n",
    "    memo[f] = (memoized, {})\n",
    "    return memoized"
   ]
  },
  {
   "cell_type": "markdown",
   "metadata": {},
   "source": [
    "### 2 - Try to memoize a function that produces random numbers"
   ]
  },
  {
   "cell_type": "code",
   "execution_count": 54,
   "metadata": {},
   "outputs": [],
   "source": [
    "from random import *\n",
    "\n",
    "def f():\n",
    "    return random()\n",
    "\n",
    "memo_rand = memoize(f)"
   ]
  },
  {
   "cell_type": "code",
   "execution_count": 55,
   "metadata": {},
   "outputs": [
    {
     "name": "stdout",
     "output_type": "stream",
     "text": [
      "False\n",
      "True\n"
     ]
    }
   ],
   "source": [
    "print(f() == f())\n",
    "print(memo_rand() == memo_rand())"
   ]
  },
  {
   "cell_type": "markdown",
   "metadata": {},
   "source": [
    "### 3 - Implement a function that takes a seed, calls the random number generator with that seed and returns the result. Memoize that function."
   ]
  },
  {
   "cell_type": "code",
   "execution_count": 56,
   "metadata": {},
   "outputs": [],
   "source": [
    "def seed_rand(x):\n",
    "    seed(x)\n",
    "    return random()"
   ]
  },
  {
   "cell_type": "code",
   "execution_count": 57,
   "metadata": {},
   "outputs": [],
   "source": [
    "memo_seed_rand = memoize(seed_rand)"
   ]
  },
  {
   "cell_type": "code",
   "execution_count": 58,
   "metadata": {},
   "outputs": [
    {
     "name": "stdout",
     "output_type": "stream",
     "text": [
      "True\n",
      "True\n"
     ]
    }
   ],
   "source": [
    "x = 100\n",
    "print(seed_rand(x) == seed_rand(x))\n",
    "print(memo_rand(x) == memo_rand(x))"
   ]
  },
  {
   "cell_type": "markdown",
   "metadata": {},
   "source": [
    "### 4 - Which of these functions are pure?"
   ]
  },
  {
   "cell_type": "markdown",
   "metadata": {},
   "source": [
    "##### a - The factorial function"
   ]
  },
  {
   "cell_type": "code",
   "execution_count": 59,
   "metadata": {},
   "outputs": [],
   "source": [
    "# this is pure function\n",
    "def fact(n):\n",
    "    result = 1\n",
    "    for i in range(2, n+1):\n",
    "        result *= i\n",
    "    return result"
   ]
  },
  {
   "cell_type": "markdown",
   "metadata": {},
   "source": [
    "##### b - the input() function"
   ]
  },
  {
   "cell_type": "code",
   "execution_count": 61,
   "metadata": {},
   "outputs": [],
   "source": [
    "def _input():\n",
    "    return input()"
   ]
  },
  {
   "cell_type": "code",
   "execution_count": 62,
   "metadata": {},
   "outputs": [],
   "source": [
    "memo_input = memoize(input)"
   ]
  },
  {
   "cell_type": "code",
   "execution_count": 63,
   "metadata": {},
   "outputs": [
    {
     "name": "stdout",
     "output_type": "stream",
     "text": [
      "None3\n"
     ]
    },
    {
     "data": {
      "text/plain": [
       "'3'"
      ]
     },
     "execution_count": 63,
     "metadata": {},
     "output_type": "execute_result"
    }
   ],
   "source": [
    "memo_input()"
   ]
  },
  {
   "cell_type": "code",
   "execution_count": 64,
   "metadata": {},
   "outputs": [
    {
     "data": {
      "text/plain": [
       "'3'"
      ]
     },
     "execution_count": 64,
     "metadata": {},
     "output_type": "execute_result"
    }
   ],
   "source": [
    "# this function returns the stored value and does not ask again for another input\n",
    "# it is not pure\n",
    "memo_input()"
   ]
  },
  {
   "cell_type": "markdown",
   "metadata": {},
   "source": [
    "##### c - A modified print function"
   ]
  },
  {
   "cell_type": "code",
   "execution_count": 65,
   "metadata": {},
   "outputs": [],
   "source": [
    "def _print():\n",
    "    print(\"Hello World\")\n",
    "    return True"
   ]
  },
  {
   "cell_type": "code",
   "execution_count": 66,
   "metadata": {},
   "outputs": [],
   "source": [
    "memo_print = memoize(_print)"
   ]
  },
  {
   "cell_type": "code",
   "execution_count": 67,
   "metadata": {},
   "outputs": [
    {
     "name": "stdout",
     "output_type": "stream",
     "text": [
      "Hello World\n"
     ]
    },
    {
     "data": {
      "text/plain": [
       "True"
      ]
     },
     "execution_count": 67,
     "metadata": {},
     "output_type": "execute_result"
    }
   ],
   "source": [
    "memo_print()"
   ]
  },
  {
   "cell_type": "code",
   "execution_count": 68,
   "metadata": {},
   "outputs": [
    {
     "data": {
      "text/plain": [
       "True"
      ]
     },
     "execution_count": 68,
     "metadata": {},
     "output_type": "execute_result"
    }
   ],
   "source": [
    "# The second time we call it, it does not print.\n",
    "# It is not pure\n",
    "memo_print()"
   ]
  },
  {
   "cell_type": "markdown",
   "metadata": {},
   "source": [
    "##### d - A function that modifies a global state"
   ]
  },
  {
   "cell_type": "code",
   "execution_count": 71,
   "metadata": {},
   "outputs": [],
   "source": [
    "y = 0\n",
    "def _global_state(x):\n",
    "    global y\n",
    "    y += x\n",
    "    return y"
   ]
  },
  {
   "cell_type": "code",
   "execution_count": 72,
   "metadata": {},
   "outputs": [],
   "source": [
    "memo_global_state = memoize(_global_state)"
   ]
  },
  {
   "cell_type": "code",
   "execution_count": 73,
   "metadata": {},
   "outputs": [
    {
     "data": {
      "text/plain": [
       "3"
      ]
     },
     "execution_count": 73,
     "metadata": {},
     "output_type": "execute_result"
    }
   ],
   "source": [
    "memo_global_state(3)"
   ]
  },
  {
   "cell_type": "code",
   "execution_count": 74,
   "metadata": {},
   "outputs": [
    {
     "data": {
      "text/plain": [
       "3"
      ]
     },
     "execution_count": 74,
     "metadata": {},
     "output_type": "execute_result"
    }
   ],
   "source": [
    "# the second time we call it, it does not update y anymore\n",
    "# it is not pure\n",
    "memo_global_state(3)"
   ]
  },
  {
   "cell_type": "markdown",
   "metadata": {},
   "source": [
    "### 5 - How many function there are from Bool to Bool? Can you implement them all?"
   ]
  },
  {
   "cell_type": "code",
   "execution_count": 75,
   "metadata": {},
   "outputs": [],
   "source": [
    "def alwaysTrue(x):\n",
    "    return True\n",
    "\n",
    "def alwaysFalse(x):\n",
    "    return False\n",
    "\n",
    "def negate(x):\n",
    "    return not x\n",
    "\n",
    "def identiy(x):\n",
    "    return x\n",
    "\n",
    "#def bottom(x):\n",
    "    #the bottom function that never halts\n",
    "    # should this be included?"
   ]
  },
  {
   "cell_type": "markdown",
   "metadata": {},
   "source": [
    "### 6 - Draw a pucture of a category whose only objects are the types Void, () (unit) and Bool"
   ]
  },
  {
   "cell_type": "markdown",
   "metadata": {},
   "source": [
    "![](imgs/2.7.6.png)"
   ]
  },
  {
   "cell_type": "raw",
   "metadata": {},
   "source": [
    "digraph G {\n",
    "    Void -> Void [label = \"absurd\"]\n",
    "    Unit -> Unit [label = \"id\"]\n",
    "    Bool -> Bool [label = \"id\"]\n",
    "    Bool -> Bool [label = \"alwaysTrue\"]\n",
    "    Bool -> Bool [label = \"alwaysFalse\"]\n",
    "    Bool -> Bool [label = \"negate\"]\n",
    "    \n",
    "    Void -> Unit [label = \"absurd\"]\n",
    "    Unit -> Void [label = \"absurd\"]\n",
    "    \n",
    "    Void -> Bool [label = \"absurd\"]\n",
    "    Bool -> Void [label = \"absurd\"]\n",
    "    \n",
    "    Bool -> Unit [label = \"unit\"]\n",
    "    Unit -> Bool [label = \"true\"]\n",
    "    Unit -> Bool [label = \"false\"]\n",
    "}"
   ]
  },
  {
   "cell_type": "code",
   "execution_count": null,
   "metadata": {},
   "outputs": [],
   "source": []
  }
 ],
 "metadata": {
  "kernelspec": {
   "display_name": "Python 3",
   "language": "python",
   "name": "python3"
  },
  "language_info": {
   "codemirror_mode": {
    "name": "ipython",
    "version": 3
   },
   "file_extension": ".py",
   "mimetype": "text/x-python",
   "name": "python",
   "nbconvert_exporter": "python",
   "pygments_lexer": "ipython3",
   "version": "3.7.4"
  }
 },
 "nbformat": 4,
 "nbformat_minor": 2
}
