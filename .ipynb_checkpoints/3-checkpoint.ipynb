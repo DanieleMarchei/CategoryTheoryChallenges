{
 "cells": [
  {
   "cell_type": "markdown",
   "metadata": {},
   "source": [
    "### 1 - Generate a free category from\n"
   ]
  },
  {
   "cell_type": "markdown",
   "metadata": {},
   "source": [
    "##### a - A graph with one node and no edges"
   ]
  },
  {
   "cell_type": "markdown",
   "metadata": {},
   "source": [
    "![](imgs/3.6.1.a.png)"
   ]
  },
  {
   "cell_type": "markdown",
   "metadata": {},
   "source": [
    "##### b - A graph with one node and one (directed) edge \"f\""
   ]
  },
  {
   "cell_type": "markdown",
   "metadata": {},
   "source": [
    "![](imgs/3.6.1.b.png)"
   ]
  },
  {
   "cell_type": "markdown",
   "metadata": {},
   "source": [
    "##### c - A graph with two nodes and a single arrow between them"
   ]
  },
  {
   "cell_type": "markdown",
   "metadata": {},
   "source": [
    "![](imgs/3.6.1.c.png)"
   ]
  },
  {
   "cell_type": "markdown",
   "metadata": {},
   "source": [
    "##### d - A graph with a single node and 26 arrows marked with the letters of the alphabet: a,b,c,d,...,z"
   ]
  },
  {
   "cell_type": "markdown",
   "metadata": {},
   "source": [
    "![](imgs/3.6.1.d.png)"
   ]
  },
  {
   "cell_type": "markdown",
   "metadata": {},
   "source": [
    "### 2 - What kind of order is this?\n"
   ]
  },
  {
   "cell_type": "markdown",
   "metadata": {},
   "source": [
    "##### a - A set of sets with the inclusion relation: A is included in B if every element of A is also an element of B\n",
    "\n",
    "Every set is incuded in itself : identiy morphism\n",
    "\n",
    "If A included in B and B included in C, than A included in C: composition\n",
    "\n",
    "Inclusion in associative \n",
    "\n",
    "-> So is at least a preorder\n",
    "\n",
    "If A included in B and B included in A, than A = B\n",
    "\n",
    "-> So is at least a partial order\n",
    "\n",
    "Not all sets are in relation, ex: {1} and {2,3}\n",
    "\n",
    "-> Therefore is not a total order\n",
    "\n",
    "-> Therefore is a partial order"
   ]
  },
  {
   "cell_type": "markdown",
   "metadata": {},
   "source": [
    "##### b - C++ types with the following subtyping relation: T1 is a subtype of T2 is a pointer to T1 can be passed to a function that expects a pointer to T2 without triggering a compilation error\n",
    "\n",
    "I don't know how to solve this"
   ]
  },
  {
   "cell_type": "markdown",
   "metadata": {},
   "source": [
    "### 3 - Considering that Bool is a set of two values True and False, show that it forms two monoids with respect to, respectively, operator AND and OR"
   ]
  },
  {
   "cell_type": "markdown",
   "metadata": {},
   "source": [
    "(Bool, AND) is a monoid because the identity element e = True and AND is associative.\n",
    "\n",
    "(Bool, OR) is a monoid because the identity element e = False and OR is associative."
   ]
  },
  {
   "cell_type": "markdown",
   "metadata": {},
   "source": [
    "### 4 - Represent the (Bool, AND) monoid as a category. List the morphisms and theis rules of composition"
   ]
  },
  {
   "cell_type": "markdown",
   "metadata": {},
   "source": [
    "AND True . AND True = AND True\n",
    "\n",
    "AND False . AND True = AND False\n",
    "\n",
    "AND True . AND False = AND False\n",
    "\n",
    "AND False . AND False = AND False"
   ]
  },
  {
   "cell_type": "markdown",
   "metadata": {},
   "source": [
    "![](imgs/3.6.4.png)"
   ]
  },
  {
   "cell_type": "markdown",
   "metadata": {},
   "source": [
    "### 5 - Represent addition modulo 3 as monoid category"
   ]
  },
  {
   "cell_type": "markdown",
   "metadata": {},
   "source": [
    "![](imgs/3.6.5.png)"
   ]
  },
  {
   "cell_type": "markdown",
   "metadata": {},
   "source": [
    "Quoting from page 34 (3.5 Monoid as Category)\n",
    "\n",
    "\"For instance, there is the operation of adding 5 to every natural number. It maps 0 to 5, 6 to 7 and so on. That's a function defined on the set of natual numbers. [...] In general, for any number n there is a function of adding n.\""
   ]
  },
  {
   "cell_type": "code",
   "execution_count": null,
   "metadata": {},
   "outputs": [],
   "source": []
  }
 ],
 "metadata": {
  "kernelspec": {
   "display_name": "Python 3",
   "language": "python",
   "name": "python3"
  },
  "language_info": {
   "codemirror_mode": {
    "name": "ipython",
    "version": 3
   },
   "file_extension": ".py",
   "mimetype": "text/x-python",
   "name": "python",
   "nbconvert_exporter": "python",
   "pygments_lexer": "ipython3",
   "version": "3.7.4"
  }
 },
 "nbformat": 4,
 "nbformat_minor": 2
}
