{
 "cells": [
  {
   "cell_type": "markdown",
   "metadata": {},
   "source": [
    "### 1 - Show the isomorphsm between \"Maybe a\" and \"Either () a\""
   ]
  },
  {
   "cell_type": "markdown",
   "metadata": {},
   "source": [
    "```\n",
    "Maybe a = Nothing | Just a\n",
    "Either () a = Left () | Right a\n",
    "\n",
    "m_to_e :: Maybe a -> Either () a\n",
    "m_to_e Nothing = Left ()\n",
    "m_to_e Just a = Right a\n",
    "\n",
    "e_to_m :: Either () a -> Maybe a\n",
    "e_to_m Left () = Nothing\n",
    "t_to_m Right a = Just a\n",
    "```"
   ]
  },
  {
   "cell_type": "markdown",
   "metadata": {},
   "source": [
    "### 2 - Here's a sum type defined in Haskell:"
   ]
  },
  {
   "cell_type": "markdown",
   "metadata": {},
   "source": [
    "```\n",
    "data Shape = Circle Float\n",
    "            | Rect Float Float\n",
    "```"
   ]
  },
  {
   "cell_type": "markdown",
   "metadata": {},
   "source": [
    "When we want to define a function like area that acts on a Shape, we do it by pattern matching on the two constructors:\n",
    "```\n",
    "area :: Shape -> Float\n",
    "area (Circle r) = pi * r * r\n",
    "area (Rect d h) = d * h\n",
    "```\n",
    "Implement Shape in C++ or Java as an interface and create two classes: Circle and Rect. Implement area as a virtual function."
   ]
  },
  {
   "cell_type": "markdown",
   "metadata": {},
   "source": [
    "---"
   ]
  },
  {
   "cell_type": "markdown",
   "metadata": {},
   "source": [
    "```\n",
    "public interface Shape{\n",
    "    float area();\n",
    "}\n",
    "\n",
    "public class Circle implements Shape{\n",
    "    private float r;\n",
    "    public Circle(float r){\n",
    "        this.r = r;\n",
    "    }\n",
    "    \n",
    "    public float area(){\n",
    "        return pi * r * r;\n",
    "    }\n",
    "}\n",
    "\n",
    "public class Rect implements Shape{\n",
    "    private float d;\n",
    "    private float h;\n",
    "    public Rect(float d, float h){\n",
    "        this.d = d;\n",
    "        this.h = h;\n",
    "    }\n",
    "    \n",
    "    public float area(){\n",
    "        return d * h;\n",
    "    }\n",
    "}\n",
    "```"
   ]
  },
  {
   "cell_type": "markdown",
   "metadata": {},
   "source": [
    "### 3 - Continuing with the previous example: We can easly add a new function circ that calculates the circumference of a Shape. We can do without touching the definition of Shape:\n",
    "```\n",
    "circ :: Shape -> Float\n",
    "circ (Circle r) = 2 * pi * r\n",
    "circ (Rect d h) = 2 * (d + h)\n",
    "```\n",
    "Add circ to your C++ or Java implementation. What parts of the original code did you have to touch?"
   ]
  },
  {
   "cell_type": "markdown",
   "metadata": {},
   "source": [
    "```\n",
    "public interface Shape{\n",
    "    float area();\n",
    "    float circ();                <- Added here\n",
    "}\n",
    "\n",
    "public class Circle implements Shape{\n",
    "    protected float r;\n",
    "    public Circle(float r){\n",
    "        this.r = r;\n",
    "    }\n",
    "    \n",
    "    public float area(){\n",
    "        return pi * r * r;\n",
    "    }\n",
    "    \n",
    "    public float circ(){\n",
    "        return 2 * pi * r;        <- Added here\n",
    "    }\n",
    "}\n",
    "\n",
    "public class Rect implements Shape{\n",
    "    protected float d;\n",
    "    protected float h;\n",
    "    public Rect(float d, float h){\n",
    "        this.d = d;\n",
    "        this.h = h;\n",
    "    }\n",
    "    \n",
    "    public float area(){\n",
    "        return d * h;\n",
    "    }\n",
    "    \n",
    "    public float circ(){\n",
    "        return 2 * (d + h);        <- Added here\n",
    "    }\n",
    "}\n",
    "```"
   ]
  },
  {
   "cell_type": "markdown",
   "metadata": {},
   "source": [
    "### 4 - Continuing further: Add a new shape, Square, to Shape and make all the necessary updates. What code did you have to touch in Haskell vs C++ or Java?"
   ]
  },
  {
   "cell_type": "markdown",
   "metadata": {},
   "source": [
    "```\n",
    "public class Square extends Rect{\n",
    "    public Square(float h){\n",
    "        this.h = h;\n",
    "        this.d = h;\n",
    "    }\n",
    "}\n",
    "```"
   ]
  },
  {
   "cell_type": "markdown",
   "metadata": {},
   "source": [
    "In Haskell we would have to update the two functions area and circ, as well as the Shape data to include the Square shape."
   ]
  },
  {
   "cell_type": "markdown",
   "metadata": {},
   "source": [
    "### 5 - Show that a + a = 2 * a holds for types (up to isomorphism). Remember that 2 corresponds to Bool, according to our translation table."
   ]
  },
  {
   "cell_type": "markdown",
   "metadata": {},
   "source": [
    "Remember that:\n",
    "\n",
    "a + b = Either a b\n",
    "a * b = (a , b)\n",
    "2 = Bool\n",
    "\n",
    "So\n",
    "\n",
    "a + a = Either a a = Left a | Right a\n",
    "2 * a = (Bool, a) = (True, a) | (False, a)\n",
    "\n",
    "```\n",
    "m1 :: Either a a -> (Bool, a)\n",
    "m1 (Left a) = (True, a)\n",
    "m1 (Right a) = (False, a)\n",
    "\n",
    "m2 :: (Bool, a) -> Either a a\n",
    "m2 (True, a) -> Left a\n",
    "m2 (False, b) -> Right a\n",
    "```"
   ]
  },
  {
   "cell_type": "code",
   "execution_count": null,
   "metadata": {},
   "outputs": [],
   "source": []
  }
 ],
 "metadata": {
  "kernelspec": {
   "display_name": "Python 3",
   "language": "python",
   "name": "python3"
  },
  "language_info": {
   "codemirror_mode": {
    "name": "ipython",
    "version": 3
   },
   "file_extension": ".py",
   "mimetype": "text/x-python",
   "name": "python",
   "nbconvert_exporter": "python",
   "pygments_lexer": "ipython3",
   "version": "3.7.4"
  }
 },
 "nbformat": 4,
 "nbformat_minor": 2
}
