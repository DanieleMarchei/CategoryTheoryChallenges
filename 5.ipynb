{
 "cells": [
  {
   "cell_type": "markdown",
   "metadata": {},
   "source": [
    "### 1 - Show that the terminal object is unique up to unique isomorphism"
   ]
  },
  {
   "cell_type": "markdown",
   "metadata": {},
   "source": [
    "Definition for the terminal object:\n",
    "\"The terminal object is the object with one and only one morphism coming to it from any object in the category\"\n",
    "\n",
    "Suppose there are two terminal objects $t_1$ and $t_2$. Since they are terminal, there are two morphisms f and g such that\n",
    "\n",
    "$f : t_1 \\rightarrow t_2$\n",
    "\n",
    "$g : t_2 \\rightarrow t_1$\n",
    "\n",
    "a) The terminal objects are isomorphic\n",
    "\n",
    "Since $t_1$ and $t_2$ are both terminal, there is only one morphism coming in from the other objects in the category. So $t_1$ has only morphism $g$ coming from $t_2$, and $t_2$ has only $f$ coming from $t_1$.\n",
    "\n",
    "This implies that $f . g = id$ and $g . f = id$. So $t_1$ and $t_2$ are isomorphic.\n",
    "\n",
    "b) The isomorphism is unique\n",
    "\n",
    "Applying the definition of the terminal object, $f$ and $g$ are the only two morphisms between $t_1$ and $t_2$. Therefore the isomorphism between them is unique.\n",
    "\n",
    "a) and b) implies that a terminal object is unique up to unique isomorphism"
   ]
  },
  {
   "cell_type": "markdown",
   "metadata": {},
   "source": [
    "### 2 - What is the product of two objects in a poset? Hint : Use the universal construction"
   ]
  },
  {
   "cell_type": "markdown",
   "metadata": {},
   "source": [
    "Definition of a product : \"A product of two objects $a$ and $b$ is the object $c$ equipped with two projections such that for any other object $c'$ with two projections there is a unique morphism $m$ from $c'$ to $c$ that factorizes those projections\"."
   ]
  },
  {
   "cell_type": "markdown",
   "metadata": {},
   "source": [
    "A poset is a set in which not all elements are in relation, but the relation $R$ satisfies the \n",
    "\n",
    "identity, \n",
    "\n",
    "composition and \n",
    "\n",
    "if $a R b$ and $b R a$ than $a = b$."
   ]
  },
  {
   "cell_type": "markdown",
   "metadata": {},
   "source": [
    "Given a poset $P$ with relation $R$, and elements $a,b,c$ such that $a R b R c$, if there is no other element $x R c$ ($x \\neq c$), than $c$ is a product for $a$ and $b$.\n",
    "\n",
    "##### Proof:\n",
    "\n",
    "Suppose that $c$ is a product for $a$ and $b$ and there exists an $x \\neq c$ such that $x R c$. \n",
    "\n",
    "This implies that $x$ also has morphisms to $a$ and $b$ ($a R x$ and $b R x$). \n",
    "\n",
    "By the definition of product, since there is a unique mapping from $c$ to $x$ ($x R c$) and since (by the composition property of posets) we can factorize $a R c$ as $a R x R c$ and $b R c$ as $b R x R c$, $x$ is a better product than $c$. \n",
    "\n",
    "This is a contradiction, therefore or $c$ is not the best product or $c = x$.\n",
    "![](imgs/5.8.2.png)"
   ]
  },
  {
   "cell_type": "markdown",
   "metadata": {},
   "source": [
    "#### Answer\n",
    "\n",
    "In a poset, the product of two elements $a$ and $b$ is the only element $c$ such that $a R b R c$ and such that there is no other $x$ such that $x R c$."
   ]
  },
  {
   "cell_type": "markdown",
   "metadata": {},
   "source": [
    "If the poset is the set of natural numbers and the relation is the \"less-than-or-equal\", than the product of $a$ and $b$ is the smallest integer bigger than them."
   ]
  },
  {
   "cell_type": "markdown",
   "metadata": {},
   "source": [
    "### 3 - What is the coproduct of two objects in a poset?"
   ]
  },
  {
   "cell_type": "markdown",
   "metadata": {},
   "source": [
    "We don't need to use the dual of the poset."
   ]
  },
  {
   "cell_type": "markdown",
   "metadata": {},
   "source": [
    "The coproduct of a poset $P$ for elements $a$ and $b$ is the element $c$ such that $c R a$ and $c R b$ and such that there is no other element $x$ such that $c R x$"
   ]
  },
  {
   "cell_type": "markdown",
   "metadata": {},
   "source": [
    "If the poset is the set of natural numbers and the relation is the \"less-than-or-equal\", than the coproduct of $a$ and $b$ is the biggest integer smallest than them."
   ]
  },
  {
   "cell_type": "markdown",
   "metadata": {},
   "source": [
    "### 4 - Implement the equivalent of Haskell \"Either\""
   ]
  },
  {
   "cell_type": "code",
   "execution_count": 5,
   "metadata": {},
   "outputs": [],
   "source": [
    "class Either:\n",
    "    def __init__(self,left, right):\n",
    "        self.left = left\n",
    "        self.right = right\n",
    "    \n",
    "    def set_value(self,v = None):\n",
    "        if v is None:\n",
    "            return self.value\n",
    "        \n",
    "        if type(v) in (self.left, self.right):\n",
    "            self.value = v\n",
    "        else:\n",
    "            raise Exception(f\"Value {v} is nor a {self.left} or a {self.right}\")\n",
    "    \n",
    "    def __type__(self):\n",
    "        return type(v)\n",
    "    \n",
    "    def __repr__(self):\n",
    "        return str(self.value)"
   ]
  },
  {
   "cell_type": "markdown",
   "metadata": {},
   "source": [
    "### 5 - Show that Either is a better coproduct that int equipped with two injections:"
   ]
  },
  {
   "cell_type": "code",
   "execution_count": 6,
   "metadata": {},
   "outputs": [],
   "source": [
    "def i(n : int) -> int:\n",
    "    return n\n",
    "def j(b : bool) -> int:\n",
    "    return 0 if b else 1"
   ]
  },
  {
   "cell_type": "code",
   "execution_count": 7,
   "metadata": {},
   "outputs": [],
   "source": [
    "def m(e : Either) -> int:\n",
    "    if type(e) == int:\n",
    "        return e.value()\n",
    "    if type(e) == bool:\n",
    "        return 0 if e.value() else 1\n",
    "    raise Exception()"
   ]
  },
  {
   "cell_type": "markdown",
   "metadata": {},
   "source": [
    "$m$ factorizes $i$ and $j$ because"
   ]
  },
  {
   "cell_type": "markdown",
   "metadata": {},
   "source": [
    "i = m . (Left Int)\n",
    "\n",
    "j = m . (Right Bool)"
   ]
  },
  {
   "cell_type": "markdown",
   "metadata": {},
   "source": [
    "### 6 - How would you argue that int with the two injections i and j cannot be better than \"Either\"?"
   ]
  },
  {
   "cell_type": "markdown",
   "metadata": {},
   "source": [
    "We cannot discriminate 0 from True and 1 from False because we don't know if 0 came from i(0) or j(True)."
   ]
  },
  {
   "cell_type": "markdown",
   "metadata": {},
   "source": [
    "### 7 - Still continuing: What about these injections?"
   ]
  },
  {
   "cell_type": "code",
   "execution_count": 2,
   "metadata": {},
   "outputs": [],
   "source": [
    "def i(n : int) -> int:\n",
    "    if n < 0:\n",
    "        return n\n",
    "    return n + 2\n",
    "\n",
    "def j(b : bool) -> int:\n",
    "    return 0 if b else 1"
   ]
  },
  {
   "cell_type": "markdown",
   "metadata": {},
   "source": [
    "Assuming no bound for Int, this is good, because we can descriminate if a Int came from i or j. We can alse define a morphism m from Int to Either."
   ]
  },
  {
   "cell_type": "code",
   "execution_count": 8,
   "metadata": {},
   "outputs": [],
   "source": [
    "def m(n : int) -> Either:\n",
    "    e = Either(int, bool)\n",
    "    if n == 0:\n",
    "        e.value(True)\n",
    "    elif n == 1:\n",
    "        e.value(False)\n",
    "    else:\n",
    "        e.value(n-2)\n",
    "    \n",
    "    return e"
   ]
  },
  {
   "cell_type": "markdown",
   "metadata": {},
   "source": [
    "If otherwise we assume a bounded Int, than MAX_INT - 1 and MAX_INT cannot be represented. Therefore in this case Either would be better."
   ]
  },
  {
   "cell_type": "markdown",
   "metadata": {},
   "source": [
    "### 8 - Come up with an inferior candidate for a coproduct of Int and Bool that cannot be better than Either because it allows multiple acceptable morphisms from it to Either."
   ]
  },
  {
   "cell_type": "markdown",
   "metadata": {},
   "source": [
    "A worst coproduct could be Triple_Either a b c = Either a b | c"
   ]
  },
  {
   "cell_type": "markdown",
   "metadata": {},
   "source": [
    " Triple_Either Int Float Bool"
   ]
  },
  {
   "cell_type": "code",
   "execution_count": 9,
   "metadata": {},
   "outputs": [],
   "source": [
    "class Triple_Either:\n",
    "    pass"
   ]
  },
  {
   "cell_type": "code",
   "execution_count": 10,
   "metadata": {},
   "outputs": [],
   "source": [
    "def i(n : int) -> Triple_Either:\n",
    "    t = Triple_Either(int, float, bool)\n",
    "    t.value(n)\n",
    "    return t\n",
    "\n",
    "def j(b : bool) -> Triple_Either:\n",
    "    t = Triple_Either(int, float, bool)\n",
    "    t.value(b)\n",
    "    return t"
   ]
  },
  {
   "cell_type": "code",
   "execution_count": null,
   "metadata": {},
   "outputs": [],
   "source": [
    "def m1(t : Triple_Either) -> Either:\n",
    "    e = Either(int, bool)\n",
    "    val = t.value()\n",
    "    if type(val) == float:\n",
    "        val = (int)val\n",
    "    e.value(val)\n",
    "\n",
    "def m2(t : Triple_Either) -> Either:\n",
    "    e = Either(int, bool)\n",
    "    val = t.value()\n",
    "    if type(val) == float:\n",
    "        val = 42\n",
    "    e.value(val)"
   ]
  }
 ],
 "metadata": {
  "kernelspec": {
   "display_name": "Python 3",
   "language": "python",
   "name": "python3"
  },
  "language_info": {
   "codemirror_mode": {
    "name": "ipython",
    "version": 3
   },
   "file_extension": ".py",
   "mimetype": "text/x-python",
   "name": "python",
   "nbconvert_exporter": "python",
   "pygments_lexer": "ipython3",
   "version": "3.7.4"
  }
 },
 "nbformat": 4,
 "nbformat_minor": 2
}
